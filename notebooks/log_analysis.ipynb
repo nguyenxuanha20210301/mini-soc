{
  "cells": [
    {
      "cell_type": "markdown",
      "metadata": {},
      "source": [
        "# Mini\u2011SOC Log Analysis Notebook\n",
        "\n",
        "S\u1eed d\u1ee5ng notebook n\u00e0y \u0111\u1ec3 n\u1ea1p timeline DFIR v\u00e0 th\u1ef1c hi\u1ec7n ph\u00e2n t\u00edch nhanh.\n",
        "- File ngu\u1ed3n: `../reports/dfir-timeline.csv`\n",
        "- Th\u00eam cell \u0111\u1ec3 v\u1ebd bi\u1ec3u \u0111\u1ed3, l\u1ecdc IOC, v.v.\n"
      ]
    },
    {
      "cell_type": "code",
      "execution_count": null,
      "metadata": {},
      "outputs": [],
      "source": [
        "import pandas as pd\n",
        "df = pd.read_csv('../reports/dfir-timeline.csv')\n",
        "df.head()"
      ]
    }
  ],
  "metadata": {
    "kernelspec": {
      "display_name": "Python 3",
      "language": "python",
      "name": "python3"
    },
    "language_info": {
      "name": "python",
      "version": "3.x"
    }
  },
  "nbformat": 4,
  "nbformat_minor": 2
}